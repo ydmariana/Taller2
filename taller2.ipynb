{
  "cells": [
    {
      "cell_type": "markdown",
      "metadata": {
        "id": "7ciyw9T41io9"
      },
      "source": []
    },
    {
      "cell_type": "code",
      "execution_count": null,
      "metadata": {
        "colab": {
          "base_uri": "https://localhost:8080/"
        },
        "id": "MFGScHTpJpru",
        "outputId": "b2b002a4-aaca-4314-9dcd-24bf141ee0e7"
      },
      "outputs": [
        {
          "name": "stdout",
          "output_type": "stream",
          "text": [
            "Eliga una opcion, 1 o 2: 1\n",
            "Usted eligio la opcion  1\n",
            "Siguio caminando y grito por ayuda\n"
          ]
        }
      ],
      "source": [
        "import math\n",
        "\n",
        "#sobrevivir en una zona selvatica\n",
        "opciones = input(\"Eliga una opcion, 1 o 2: \")\n",
        "print(\"Usted eligio la opcion \", opciones)\n",
        "\n",
        "#ubicarse con la brujula y buscar el camino\n",
        "if opciones == \"1\":\n",
        "    print (\"Encontro el camino de regreso\")\n",
        "\n",
        "elif opciones == \"2\":\n",
        "    print (\"Siguio caminando y grito por ayuda\")\n",
        "\n",
        "else:\n",
        "    print (\"No eligio ninguna opcion valida\")\n",
        "\n"
      ]
    }
  ],
  "metadata": {
    "colab": {
      "provenance": []
    },
    "kernelspec": {
      "display_name": "Python 3",
      "name": "python3"
    },
    "language_info": {
      "name": "python",
      "version": "3.12.3"
    }
  },
  "nbformat": 4,
  "nbformat_minor": 0
}
